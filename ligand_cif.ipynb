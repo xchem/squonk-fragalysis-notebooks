{
 "cells": [
  {
   "cell_type": "markdown",
   "id": "f578f14d-d91e-4cd1-ac3b-b5a1425cb0ec",
   "metadata": {},
   "source": [
    "# Create ligand CIF \n",
    "\n",
    "Use this notebook to create a ligand CIF to accompany PDB file for use in XChemAlign. "
   ]
  },
  {
   "cell_type": "code",
   "execution_count": null,
   "id": "b1bc7e16-e577-4510-b33e-d8893aba4962",
   "metadata": {},
   "outputs": [],
   "source": [
    "from fragalysis.widgets.ligand_cif import ligand_cif\n",
    "ligand_cif()"
   ]
  }
 ],
 "metadata": {
  "kernelspec": {
   "display_name": "Python 3 (ipykernel)",
   "language": "python",
   "name": "python3"
  },
  "language_info": {
   "codemirror_mode": {
    "name": "ipython",
    "version": 3
   },
   "file_extension": ".py",
   "mimetype": "text/x-python",
   "name": "python",
   "nbconvert_exporter": "python",
   "pygments_lexer": "ipython3",
   "version": "3.12.10"
  }
 },
 "nbformat": 4,
 "nbformat_minor": 5
}
