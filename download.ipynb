{
 "cells": [
  {
   "cell_type": "markdown",
   "id": "aa5934a6-816d-4d8a-9169-0991b3be5244",
   "metadata": {},
   "source": [
    "# Download Target\n",
    "\n",
    "This notebook downloads and unzips Fragalysis Target downloads into the `destination` folder specified. To see private targets, paste in your authentication token obtained from fragalysis."
   ]
  },
  {
   "cell_type": "code",
   "execution_count": null,
   "id": "cc662790-20b4-4f2f-b61e-25858fed5c7c",
   "metadata": {},
   "outputs": [],
   "source": [
    "from fragalysis.widgets import download"
   ]
  },
  {
   "cell_type": "code",
   "execution_count": null,
   "id": "5dc6f8b1-d3fa-4ea4-b16c-9cd88f0ef9b9",
   "metadata": {},
   "outputs": [],
   "source": [
    "download()"
   ]
  }
 ],
 "metadata": {
  "kernelspec": {
   "display_name": "Python 3 (ipykernel)",
   "language": "python",
   "name": "python3"
  },
  "language_info": {
   "codemirror_mode": {
    "name": "ipython",
    "version": 3
   },
   "file_extension": ".py",
   "mimetype": "text/x-python",
   "name": "python",
   "nbconvert_exporter": "python",
   "pygments_lexer": "ipython3",
   "version": "3.10.12"
  }
 },
 "nbformat": 4,
 "nbformat_minor": 5
}
