{
 "cells": [
  {
   "cell_type": "markdown",
   "id": "aa5934a6-816d-4d8a-9169-0991b3be5244",
   "metadata": {},
   "source": [
    "# Download Target\n",
    "\n",
    "This notebook downloads and unzips Fragalysis Target downloads into the `destination` folder specified. To see private targets, paste in your authentication token obtained from fragalysis."
   ]
  },
  {
   "cell_type": "code",
   "execution_count": 3,
   "id": "cc662790-20b4-4f2f-b61e-25858fed5c7c",
   "metadata": {},
   "outputs": [],
   "source": [
    "from nbtools.widgets import download"
   ]
  },
  {
   "cell_type": "code",
   "execution_count": 4,
   "id": "5dc6f8b1-d3fa-4ea4-b16c-9cd88f0ef9b9",
   "metadata": {},
   "outputs": [
    {
     "data": {
      "text/html": [
       "<pre style=\"white-space:pre;overflow-x:auto;line-height:normal;font-family:Menlo,'DejaVu Sans Mono',consolas,'Courier New',monospace;margin:0px\">╭─────────────────╮\n",
       "│ download target │\n",
       "╰─────────────────╯\n",
       "</pre>\n"
      ],
      "text/plain": [
       "╭─────────────────╮\n",
       "│ download target │\n",
       "╰─────────────────╯\n"
      ]
     },
     "metadata": {},
     "output_type": "display_data"
    },
    {
     "data": {
      "application/vnd.jupyter.widget-view+json": {
       "model_id": "f1b61e1d974d45a1ad8c787264d765e4",
       "version_major": 2,
       "version_minor": 0
      },
      "text/plain": [
       "VBox(children=(VBox(children=(Dropdown(description='Stack', index=1, options=('staging', 'production'), value=…"
      ]
     },
     "metadata": {},
     "output_type": "display_data"
    }
   ],
   "source": [
    "download()"
   ]
  }
 ],
 "metadata": {
  "kernelspec": {
   "display_name": "Python 3 (ipykernel)",
   "language": "python",
   "name": "python3"
  },
  "language_info": {
   "codemirror_mode": {
    "name": "ipython",
    "version": 3
   },
   "file_extension": ".py",
   "mimetype": "text/x-python",
   "name": "python",
   "nbconvert_exporter": "python",
   "pygments_lexer": "ipython3",
   "version": "3.10.6"
  }
 },
 "nbformat": 4,
 "nbformat_minor": 5
}
