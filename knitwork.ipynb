{
 "cells": [
  {
   "cell_type": "markdown",
   "id": "e734aa92-eea6-4579-94a9-00ed7611532e",
   "metadata": {},
   "source": [
    "# Fragment Knitwork\n",
    "\n",
    "Create fragment knitwork merges based on pairwise combinations of experimentally observed ligands.\n",
    "\n",
    "Pre-requisites:\n",
    "\n",
    "1. Download the Target data from Fragalysis `download.ipynb`\n",
    "2. Set up HIPPO for your target `hippo.ipynb`"
   ]
  },
  {
   "cell_type": "code",
   "execution_count": null,
   "id": "c72fc8eb-955f-4ac8-a4dd-aca54bbb2ebc",
   "metadata": {},
   "outputs": [],
   "source": [
    "%load_ext autoreload\n",
    "%autoreload 2\n",
    "from fragalysis.widgets import knitwork"
   ]
  },
  {
   "cell_type": "code",
   "execution_count": null,
   "id": "902b88e8-b75d-49b0-bf0b-9ffcda680d7d",
   "metadata": {},
   "outputs": [],
   "source": [
    "knitwork()"
   ]
  },
  {
   "cell_type": "code",
   "execution_count": null,
   "id": "b9e2e46a-4cbf-4438-9b0e-5a17f7ff267d",
   "metadata": {},
   "outputs": [],
   "source": []
  }
 ],
 "metadata": {
  "kernelspec": {
   "display_name": "Python 3 (ipykernel)",
   "language": "python",
   "name": "python3"
  },
  "language_info": {
   "codemirror_mode": {
    "name": "ipython",
    "version": 3
   },
   "file_extension": ".py",
   "mimetype": "text/x-python",
   "name": "python",
   "nbconvert_exporter": "python",
   "pygments_lexer": "ipython3",
   "version": "3.10.6"
  }
 },
 "nbformat": 4,
 "nbformat_minor": 5
}
