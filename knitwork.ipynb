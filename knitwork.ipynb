{
 "cells": [
  {
   "cell_type": "markdown",
   "id": "e734aa92-eea6-4579-94a9-00ed7611532e",
   "metadata": {},
   "source": [
    "# Fragment Knitwork\n",
    "\n",
    "Create fragment knitwork merges based on pairwise combinations of experimentally observed ligands.\n",
    "\n",
    "Pre-requisites:\n",
    "\n",
    "1. Download the Target data from Fragalysis `download.ipynb`\n",
    "2. Set up HIPPO for your target `hippo.ipynb`"
   ]
  },
  {
   "cell_type": "code",
   "execution_count": 1,
   "id": "c72fc8eb-955f-4ac8-a4dd-aca54bbb2ebc",
   "metadata": {
    "tags": []
   },
   "outputs": [],
   "source": [
    "%load_ext autoreload\n",
    "%autoreload 2\n",
    "from fragalysis.widgets import knitwork"
   ]
  },
  {
   "cell_type": "code",
   "execution_count": 3,
   "id": "902b88e8-b75d-49b0-bf0b-9ffcda680d7d",
   "metadata": {
    "tags": []
   },
   "outputs": [
    {
     "data": {
      "text/html": [
       "<pre style=\"white-space:pre;overflow-x:auto;line-height:normal;font-family:Menlo,'DejaVu Sans Mono',consolas,'Courier New',monospace;margin:0px\">╭───────────────────╮\n",
       "│ fragment knitwork │\n",
       "╰───────────────────╯\n",
       "</pre>\n"
      ],
      "text/plain": [
       "╭───────────────────╮\n",
       "│ fragment knitwork │\n",
       "╰───────────────────╯\n"
      ]
     },
     "metadata": {},
     "output_type": "display_data"
    },
    {
     "data": {
      "application/vnd.jupyter.widget-view+json": {
       "model_id": "7e875635d0ce447396328ff9e6e1bf72",
       "version_major": 2,
       "version_minor": 0
      },
      "text/plain": [
       "VBox(children=(Text(value='', description='HIPPO DB', placeholder='target.sqlite'), Button(description='Get HI…"
      ]
     },
     "metadata": {},
     "output_type": "display_data"
    }
   ],
   "source": [
    "knitwork()"
   ]
  },
  {
   "cell_type": "code",
   "execution_count": null,
   "id": "b9e2e46a-4cbf-4438-9b0e-5a17f7ff267d",
   "metadata": {},
   "outputs": [],
   "source": []
  }
 ],
 "metadata": {
  "kernelspec": {
   "display_name": "Python 3 (ipykernel)",
   "language": "python",
   "name": "python3"
  },
  "language_info": {
   "codemirror_mode": {
    "name": "ipython",
    "version": 3
   },
   "file_extension": ".py",
   "mimetype": "text/x-python",
   "name": "python",
   "nbconvert_exporter": "python",
   "pygments_lexer": "ipython3",
   "version": "3.10.12"
  }
 },
 "nbformat": 4,
 "nbformat_minor": 5
}
