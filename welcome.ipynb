{
 "cells": [
  {
   "cell_type": "markdown",
   "id": "32f17a46-ea7a-4ec2-abfd-268ba48c1850",
   "metadata": {},
   "source": [
    "# Welcome to Fragalysis Notebooks\n",
    "\n",
    "Press the play button above to run cells and then use the buttons below to fetch template notebooks and keep your installation up to date"
   ]
  },
  {
   "cell_type": "code",
   "execution_count": null,
   "id": "67780673-52f3-4e51-9f75-e5dca9ae479f",
   "metadata": {},
   "outputs": [],
   "source": [
    "from fragalysis.widgets.welcome import templates\n",
    "templates()"
   ]
  },
  {
   "cell_type": "code",
   "execution_count": null,
   "id": "06f69e05-54d7-4876-bfbf-c113d2d40895",
   "metadata": {},
   "outputs": [],
   "source": [
    "from fragalysis.widgets.welcome import manage\n",
    "manage()"
   ]
  }
 ],
 "metadata": {
  "kernelspec": {
   "display_name": "Python 3 (ipykernel)",
   "language": "python",
   "name": "python3"
  },
  "language_info": {
   "codemirror_mode": {
    "name": "ipython",
    "version": 3
   },
   "file_extension": ".py",
   "mimetype": "text/x-python",
   "name": "python",
   "nbconvert_exporter": "python",
   "pygments_lexer": "ipython3",
   "version": "3.12.10"
  }
 },
 "nbformat": 4,
 "nbformat_minor": 5
}
