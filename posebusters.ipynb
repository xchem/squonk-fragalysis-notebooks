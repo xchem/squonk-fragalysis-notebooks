{
 "cells": [
  {
   "cell_type": "markdown",
   "id": "2c552093-de57-44dc-b858-ace3f0c3d0d9",
   "metadata": {},
   "source": [
    "# PoseBusters Checks\n",
    "\n",
    "Run posebusters checks against a ligand and optional protein"
   ]
  },
  {
   "cell_type": "code",
   "execution_count": null,
   "id": "8cc2cffe-f0d4-408e-9400-35aae8cbd1bb",
   "metadata": {},
   "outputs": [],
   "source": [
    "from posebusters import *\n",
    "from rdkit import Chem\n",
    "import pandas as pd\n",
    "\n",
    "LIGAND_CHECKS = {\n",
    "    \"check_geometry\": (check_geometry, [\n",
    "        \"bond_lengths_within_bounds\", \n",
    "        \"bond_angles_within_bounds\", \n",
    "        \"no_internal_clash\",\n",
    "    ]),\n",
    "    \"check_energy_ratio\": (check_energy_ratio, [\"energy_ratio_passes\"]),\n",
    "    \"check_flatness\": (check_flatness, [\"flatness_passes\"]),\n",
    "    \"check_chemistry\": (check_chemistry, [\n",
    "        \"passes_rdkit_sanity_checks\",\n",
    "        # \"inchi_convertible\",\n",
    "        \"all_atoms_connected\",\n",
    "        \"passes_valence_checks\",\n",
    "        \"passes_kekulization\",\n",
    "    ]),\n",
    "}\n",
    "\n",
    "COMPLEX_CHECKS = {\n",
    "    \"check_volume_overlap\":(check_volume_overlap, [\"no_volume_clash\"]),\n",
    "}\n",
    "\n",
    "def run_checks(ligand_file, protein_file=None):\n",
    "\n",
    "    ligand = Chem.MolFromMolFile(ligand_file)\n",
    "    protein = Chem.MolFromPDBFile(protein_file, removeHs=False)\n",
    "\n",
    "    data = []\n",
    "\n",
    "    overall_pass = True\n",
    "    \n",
    "    for check_name, (check, cols) in LIGAND_CHECKS.items():\n",
    "        outcome = check(ligand)\n",
    "        results = outcome[\"results\"]\n",
    "        d = {}\n",
    "        d[\"check\"] = check_name\n",
    "        passes = True\n",
    "        fails = set()\n",
    "        for col in cols:\n",
    "            if not (res := results[col]):\n",
    "                passes = False\n",
    "                overall_pass = False\n",
    "                fails.add(col)\n",
    "        d[\"pass\"] = passes\n",
    "        d[\"failed_checks\"] = \", \".join(fails)\n",
    "        data.append(d)\n",
    "\n",
    "    if protein:\n",
    "        for check_name, (check, cols) in COMPLEX_CHECKS.items():\n",
    "            outcome = check(ligand, protein)\n",
    "            results = outcome[\"results\"]\n",
    "            d = {}\n",
    "            d[\"check\"] = check_name\n",
    "            passes = True\n",
    "            fails = set()\n",
    "            for col in cols:\n",
    "                res = results[col]\n",
    "                if not (res := results[col]):\n",
    "                    passes = False\n",
    "                    overall_pass = False\n",
    "                    fails.add(col)\n",
    "            d[\"pass\"] = passes\n",
    "            d[\"failed_checks\"] = \", \".join(fails)\n",
    "            data.append(d)\n",
    "\n",
    "    df = pd.DataFrame(data)\n",
    "    df = df.set_index(\"check\")\n",
    "    \n",
    "    return overall_pass, df"
   ]
  },
  {
   "cell_type": "code",
   "execution_count": null,
   "id": "f2c08617-caa5-40a7-9052-2db392fd2d15",
   "metadata": {},
   "outputs": [],
   "source": [
    "passed, df = run_checks(\n",
    "    \"A71EV2A/aligned_files/A0310a/A0310a_ligand.sdf\",\n",
    "    \"A71EV2A/aligned_files/A0310a/A0310a_apo-desolv.pdb\",\n",
    ")\n",
    "display(df)\n",
    "passed"
   ]
  },
  {
   "cell_type": "code",
   "execution_count": null,
   "id": "543c7316-0dd6-4f75-8e7d-42a2025c0255",
   "metadata": {},
   "outputs": [],
   "source": []
  }
 ],
 "metadata": {
  "kernelspec": {
   "display_name": "Python 3 (ipykernel)",
   "language": "python",
   "name": "python3"
  },
  "language_info": {
   "codemirror_mode": {
    "name": "ipython",
    "version": 3
   },
   "file_extension": ".py",
   "mimetype": "text/x-python",
   "name": "python",
   "nbconvert_exporter": "python",
   "pygments_lexer": "ipython3",
   "version": "3.12.10"
  }
 },
 "nbformat": 4,
 "nbformat_minor": 5
}
