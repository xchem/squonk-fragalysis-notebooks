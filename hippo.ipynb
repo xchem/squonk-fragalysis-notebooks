{
 "cells": [
  {
   "cell_type": "markdown",
   "id": "4b7a57cc-2430-4147-940f-f2f03c446b3e",
   "metadata": {},
   "source": [
    "# Set up HIPPO Database"
   ]
  },
  {
   "cell_type": "code",
   "execution_count": null,
   "id": "b1f3e586-aa99-4a25-a981-fa4b96b61e6d",
   "metadata": {},
   "outputs": [],
   "source": []
  }
 ],
 "metadata": {
  "kernelspec": {
   "display_name": "Python 3 (ipykernel)",
   "language": "python",
   "name": "python3"
  },
  "language_info": {
   "codemirror_mode": {
    "name": "ipython",
    "version": 3
   },
   "file_extension": ".py",
   "mimetype": "text/x-python",
   "name": "python",
   "nbconvert_exporter": "python",
   "pygments_lexer": "ipython3",
   "version": "3.10.6"
  }
 },
 "nbformat": 4,
 "nbformat_minor": 5
}
