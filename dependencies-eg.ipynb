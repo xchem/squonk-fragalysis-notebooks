{
 "cells": [
  {
   "cell_type": "markdown",
   "id": "c45475ab-d603-4777-840b-c70c0af36f12",
   "metadata": {},
   "source": [
    "Allows to install conda packages that your notebooks depend on"
   ]
  },
  {
   "cell_type": "code",
   "execution_count": null,
   "id": "a481802b-7c6c-4941-a9c6-1a820f2efc15",
   "metadata": {},
   "outputs": [],
   "source": [
    "!conda install foo"
   ]
  }
 ],
 "metadata": {
  "kernelspec": {
   "display_name": "Python 3 (ipykernel)",
   "language": "python",
   "name": "python3"
  },
  "language_info": {
   "codemirror_mode": {
    "name": "ipython",
    "version": 3
   },
   "file_extension": ".py",
   "mimetype": "text/x-python",
   "name": "python",
   "nbconvert_exporter": "python",
   "pygments_lexer": "ipython3",
   "version": "3.10.6"
  }
 },
 "nbformat": 4,
 "nbformat_minor": 5
}
